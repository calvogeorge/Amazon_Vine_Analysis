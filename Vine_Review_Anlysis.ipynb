{
  "nbformat": 4,
  "nbformat_minor": 0,
  "metadata": {
    "colab": {
      "name": "Vine_Review_Anlysis.ipynb",
      "provenance": []
    },
    "kernelspec": {
      "name": "python3",
      "display_name": "Python 3"
    },
    "nteract": {
      "version": "0.12.3"
    },
    "language_info": {
      "name": "python"
    }
  },
  "cells": [
    {
      "cell_type": "code",
      "metadata": {
        "id": "V58rxea0HqSa",
        "colab": {
          "base_uri": "https://localhost:8080/"
        },
        "outputId": "38cf0f3c-a368-491e-f97f-dcff0d8a0fec"
      },
      "source": [
        "import os\n",
        "# Find the latest version of spark 3.0 from http://www.apache.org/dist/spark/ and enter as the spark version\n",
        "# For example:\n",
        "# spark_version = 'spark-3.0.3'\n",
        "spark_version = 'spark-3.0.3'\n",
        "os.environ['SPARK_VERSION']=spark_version\n",
        "\n",
        "# Install Spark and Java\n",
        "!apt-get update\n",
        "!apt-get install openjdk-11-jdk-headless -qq > /dev/null\n",
        "!wget -q http://www.apache.org/dist/spark/$SPARK_VERSION/$SPARK_VERSION-bin-hadoop2.7.tgz\n",
        "!tar xf $SPARK_VERSION-bin-hadoop2.7.tgz\n",
        "!pip install -q findspark\n",
        "\n",
        "# Set Environment Variables\n",
        "import os\n",
        "os.environ[\"JAVA_HOME\"] = \"/usr/lib/jvm/java-11-openjdk-amd64\"\n",
        "os.environ[\"SPARK_HOME\"] = f\"/content/{spark_version}-bin-hadoop2.7\"\n",
        "\n",
        "# Start a SparkSession\n",
        "import findspark\n",
        "findspark.init()"
      ],
      "execution_count": 1,
      "outputs": [
        {
          "output_type": "stream",
          "name": "stdout",
          "text": [
            "Get:1 https://cloud.r-project.org/bin/linux/ubuntu bionic-cran40/ InRelease [3,626 B]\n",
            "Ign:2 https://developer.download.nvidia.com/compute/cuda/repos/ubuntu1804/x86_64  InRelease\n",
            "Hit:3 http://ppa.launchpad.net/c2d4u.team/c2d4u4.0+/ubuntu bionic InRelease\n",
            "Hit:4 http://archive.ubuntu.com/ubuntu bionic InRelease\n",
            "Get:5 http://security.ubuntu.com/ubuntu bionic-security InRelease [88.7 kB]\n",
            "Ign:6 https://developer.download.nvidia.com/compute/machine-learning/repos/ubuntu1804/x86_64  InRelease\n",
            "Hit:7 https://developer.download.nvidia.com/compute/cuda/repos/ubuntu1804/x86_64  Release\n",
            "Hit:8 https://developer.download.nvidia.com/compute/machine-learning/repos/ubuntu1804/x86_64  Release\n",
            "Get:9 http://archive.ubuntu.com/ubuntu bionic-updates InRelease [88.7 kB]\n",
            "Hit:10 http://ppa.launchpad.net/cran/libgit2/ubuntu bionic InRelease\n",
            "Get:11 https://cloud.r-project.org/bin/linux/ubuntu bionic-cran40/ Packages [67.0 kB]\n",
            "Hit:12 http://ppa.launchpad.net/deadsnakes/ppa/ubuntu bionic InRelease\n",
            "Get:13 http://archive.ubuntu.com/ubuntu bionic-backports InRelease [74.6 kB]\n",
            "Get:14 http://ppa.launchpad.net/graphics-drivers/ppa/ubuntu bionic InRelease [21.3 kB]\n",
            "Get:15 http://security.ubuntu.com/ubuntu bionic-security/main amd64 Packages [2,295 kB]\n",
            "Get:16 http://security.ubuntu.com/ubuntu bionic-security/universe amd64 Packages [1,426 kB]\n",
            "Get:19 http://archive.ubuntu.com/ubuntu bionic-updates/universe amd64 Packages [2,200 kB]\n",
            "Get:20 http://archive.ubuntu.com/ubuntu bionic-updates/main amd64 Packages [2,731 kB]\n",
            "Get:21 http://ppa.launchpad.net/graphics-drivers/ppa/ubuntu bionic/main amd64 Packages [41.6 kB]\n",
            "Fetched 9,038 kB in 7s (1,384 kB/s)\n",
            "Reading package lists... Done\n"
          ]
        }
      ]
    },
    {
      "cell_type": "code",
      "metadata": {
        "id": "_xKwTpATHqSe",
        "colab": {
          "base_uri": "https://localhost:8080/"
        },
        "outputId": "e7f3487c-1e3d-4b41-fb4d-44acc21fb938"
      },
      "source": [
        "# Download the Postgres driver that will allow Spark to interact with Postgres.\n",
        "#!wget https://jdbc.postgresql.org/download/postgresql-42.2.16.jar"
      ],
      "execution_count": null,
      "outputs": [
        {
          "output_type": "stream",
          "name": "stdout",
          "text": [
            "--2021-09-01 01:43:36--  https://jdbc.postgresql.org/download/postgresql-42.2.16.jar\n",
            "Resolving jdbc.postgresql.org (jdbc.postgresql.org)... 72.32.157.228, 2001:4800:3e1:1::228\n",
            "Connecting to jdbc.postgresql.org (jdbc.postgresql.org)|72.32.157.228|:443... connected.\n",
            "HTTP request sent, awaiting response... 200 OK\n",
            "Length: 1002883 (979K) [application/java-archive]\n",
            "Saving to: ‘postgresql-42.2.16.jar’\n",
            "\n",
            "postgresql-42.2.16. 100%[===================>] 979.38K  6.08MB/s    in 0.2s    \n",
            "\n",
            "2021-09-01 01:43:37 (6.08 MB/s) - ‘postgresql-42.2.16.jar’ saved [1002883/1002883]\n",
            "\n"
          ]
        }
      ]
    },
    {
      "cell_type": "code",
      "metadata": {
        "id": "MMqDAjVS0KN9"
      },
      "source": [
        "from pyspark.sql import SparkSession\n",
        "spark = SparkSession.builder.appName(\"M16-Amazon-Challenge\").getOrCreate()"
      ],
      "execution_count": 2,
      "outputs": []
    },
    {
      "cell_type": "markdown",
      "metadata": {
        "id": "cyBsySGuY-9V"
      },
      "source": [
        "### Load Amazon Data into Spark DataFrame"
      ]
    },
    {
      "cell_type": "code",
      "metadata": {
        "id": "CtCmBhQJY-9Z",
        "colab": {
          "base_uri": "https://localhost:8080/"
        },
        "outputId": "c6ca4142-d6c1-4990-cc62-3a6c2c63b73c"
      },
      "source": [
        "from pyspark import SparkFiles\n",
        "url = \"https://s3.amazonaws.com/amazon-reviews-pds/tsv/amazon_reviews_us_Digital_Music_Purchase_v1_00.tsv.gz\"\n",
        "spark.sparkContext.addFile(url)\n",
        "df = spark.read.option(\"encoding\", \"UTF-8\").csv(SparkFiles.get(\"amazon_reviews_us_Digital_Music_Purchase_v1_00.tsv.gz\"), sep=\"\\t\", header=True, inferSchema=True)\n",
        "df.show()"
      ],
      "execution_count": 3,
      "outputs": [
        {
          "output_type": "stream",
          "name": "stdout",
          "text": [
            "+-----------+-----------+--------------+----------+--------------+--------------------+--------------------+-----------+-------------+-----------+----+-----------------+--------------------+--------------------+-----------+\n",
            "|marketplace|customer_id|     review_id|product_id|product_parent|       product_title|    product_category|star_rating|helpful_votes|total_votes|vine|verified_purchase|     review_headline|         review_body|review_date|\n",
            "+-----------+-----------+--------------+----------+--------------+--------------------+--------------------+-----------+-------------+-----------+----+-----------------+--------------------+--------------------+-----------+\n",
            "|         US|   10293599|R14LVB34Z2Z53I|B000YMOQZY|     262935067|Knockin' On Heave...|Digital_Music_Pur...|          5|            0|          0|   N|                Y|           favorites|Great  rendition....| 2015-08-31|\n",
            "|         US|    6087195|R2M0R9CWPC82LT|B00ISAEC80|     452318038|            Flawless|Digital_Music_Pur...|          5|            0|          0|   N|                Y|          Five Stars|A good music to l...| 2015-08-31|\n",
            "|         US|   33717063| RQNQI2R3BM52A|B00VBB6AVU|     675969129|    Scandal of Grace|Digital_Music_Pur...|          4|            0|          0|   N|                Y|                Good|Not as good as th...| 2015-08-31|\n",
            "|         US|   14948020| RTUIX1135HUAB|B008A5POJO|     282925893|  I Surrender (Live)|Digital_Music_Pur...|          5|            0|          0|   N|                Y|Wonderful lyrics!...|Time to worship a...| 2015-08-31|\n",
            "|         US|   21694522| RE3QSAT8TL010|B014CW2RN4|     109077793|We Are Young (Jer...|Digital_Music_Pur...|          4|            0|          0|   N|                Y|Hot remix but too...|So this should be...| 2015-08-31|\n",
            "|         US|   14948020|R14TN65IY0NUOD|B00DRA3EOY|     959245080|        Lord, I Live|Digital_Music_Pur...|          5|            0|          0|   N|                Y|          Five Stars|Clint Brown is an...| 2015-08-31|\n",
            "|         US|   20031966|R3LIF8MCNH1ODF|B009G3U0PW|     762436916|  I'll Never Be Free|Digital_Music_Pur...|          5|            0|          0|   N|                Y|\"I'll never be fr...|LaVerne Butler is...| 2015-08-31|\n",
            "|         US|   12223745|R33X0DGA4PPQ3L|B013XBYQOS|     137980344|    All of the Stars|Digital_Music_Pur...|          5|            3|          3|   N|                N| long awaited treat!|For some reason I...| 2015-08-31|\n",
            "|         US|   30231876|R2DJJP7DQRT1ZW|B003L5H25W|     165995375|Exile On Main Str...|Digital_Music_Pur...|          5|            0|          1|   N|                Y|          Five Stars|The Stones at the...| 2015-08-31|\n",
            "|         US|   51714365|R2A8XDXW5XOT4H|B00136NVH4|     227508666|     Bat Out Of Hell|Digital_Music_Pur...|          5|            0|          0|   N|                Y|    Transcends Time.|    Simply the best.| 2015-08-31|\n",
            "|         US|   37216001|R3MJK3L7ER61TT|B0030AKPQ6|     164096943|Stronger Than Her...|Digital_Music_Pur...|          5|            0|          0|   N|                N|I Love The Flirta...|A very early hit ...| 2015-08-31|\n",
            "|         US|   49207156|R38Z7XMCVDR0R5|B014EQE0V0|     714368268|You Hold It All (...|Digital_Music_Pur...|          5|            1|          1|   N|                Y|          Five Stars|Inspired by this ...| 2015-08-31|\n",
            "|         US|    2472364|R3FFESBQXPR7S6|B00USW4ZVU|      50310906|   Pressure - Single|Digital_Music_Pur...|          4|            0|          0|   N|                Y|Talented new gosp...|Great new artist....| 2015-08-31|\n",
            "|         US|   22612468|R3QO6Z942CKH34|B00ZZDJAX0|     162295903|What Are The Chan...|Digital_Music_Pur...|          5|            1|          1|   N|                Y|        Awesome song|Great song off th...| 2015-08-31|\n",
            "|         US|    2254795|R297119MDWMG9P|B014DIWONU|      44838453|Beauty Behind The...|Digital_Music_Pur...|          5|            0|          0|   N|                Y|I love every song...|The weeknd is a m...| 2015-08-31|\n",
            "|         US|   12408664| R7EJRSXIXMLIY|B005DPTQNE|     454271984|It's The Huck-A-B...|Digital_Music_Pur...|          5|            0|          0|   N|                Y|          Five Stars|       Sounds great!| 2015-08-31|\n",
            "|         US|   36236254|R2EBGPZD0B3TSV|B004LI9ATO|     519024911|  Two Purple Shadows|Digital_Music_Pur...|          5|            0|          0|   N|                N|An oldie,,, but i...|An oldie , , , bu...| 2015-08-31|\n",
            "|         US|   10456004|R229VSSFBNB90C|B00984QCM4|     647155979|         Consolation|Digital_Music_Pur...|          5|            0|          0|   N|                Y|          Five Stars|               great| 2015-08-31|\n",
            "|         US|   16822806|R12YCDYTDBJH3X|B00ZKCAK4O|     346522639|One Man Army [Exp...|Digital_Music_Pur...|          5|            0|          0|   N|                Y|One Man Army! Dow...|Real Sh*t Right H...| 2015-08-31|\n",
            "|         US|   30704319|R3DEVUNGQ2Y98S|B014GWCW8K|     260814213|Without You (feat...|Digital_Music_Pur...|          5|            0|          0|   N|                Y|          Five Stars|      Press Forward!| 2015-08-31|\n",
            "+-----------+-----------+--------------+----------+--------------+--------------------+--------------------+-----------+-------------+-----------+----+-----------------+--------------------+--------------------+-----------+\n",
            "only showing top 20 rows\n",
            "\n"
          ]
        }
      ]
    },
    {
      "cell_type": "markdown",
      "metadata": {
        "id": "2yUSe55VY-9t"
      },
      "source": [
        "### Create vine DataFrames"
      ]
    },
    {
      "cell_type": "code",
      "metadata": {
        "id": "lzMmkdKmY--D",
        "colab": {
          "base_uri": "https://localhost:8080/"
        },
        "outputId": "1fe4b2b7-31b6-491c-e477-3b962863c546"
      },
      "source": [
        "# Create the vine_table. DataFrame\n",
        "vine_df = df.select([\"review_id\", \"star_rating\", \"helpful_votes\", \"total_votes\", \"vine\", \"verified_purchase\"])\n",
        "vine_df.show()"
      ],
      "execution_count": 4,
      "outputs": [
        {
          "output_type": "stream",
          "name": "stdout",
          "text": [
            "+--------------+-----------+-------------+-----------+----+-----------------+\n",
            "|     review_id|star_rating|helpful_votes|total_votes|vine|verified_purchase|\n",
            "+--------------+-----------+-------------+-----------+----+-----------------+\n",
            "|R14LVB34Z2Z53I|          5|            0|          0|   N|                Y|\n",
            "|R2M0R9CWPC82LT|          5|            0|          0|   N|                Y|\n",
            "| RQNQI2R3BM52A|          4|            0|          0|   N|                Y|\n",
            "| RTUIX1135HUAB|          5|            0|          0|   N|                Y|\n",
            "| RE3QSAT8TL010|          4|            0|          0|   N|                Y|\n",
            "|R14TN65IY0NUOD|          5|            0|          0|   N|                Y|\n",
            "|R3LIF8MCNH1ODF|          5|            0|          0|   N|                Y|\n",
            "|R33X0DGA4PPQ3L|          5|            3|          3|   N|                N|\n",
            "|R2DJJP7DQRT1ZW|          5|            0|          1|   N|                Y|\n",
            "|R2A8XDXW5XOT4H|          5|            0|          0|   N|                Y|\n",
            "|R3MJK3L7ER61TT|          5|            0|          0|   N|                N|\n",
            "|R38Z7XMCVDR0R5|          5|            1|          1|   N|                Y|\n",
            "|R3FFESBQXPR7S6|          4|            0|          0|   N|                Y|\n",
            "|R3QO6Z942CKH34|          5|            1|          1|   N|                Y|\n",
            "|R297119MDWMG9P|          5|            0|          0|   N|                Y|\n",
            "| R7EJRSXIXMLIY|          5|            0|          0|   N|                Y|\n",
            "|R2EBGPZD0B3TSV|          5|            0|          0|   N|                N|\n",
            "|R229VSSFBNB90C|          5|            0|          0|   N|                Y|\n",
            "|R12YCDYTDBJH3X|          5|            0|          0|   N|                Y|\n",
            "|R3DEVUNGQ2Y98S|          5|            0|          0|   N|                Y|\n",
            "+--------------+-----------+-------------+-----------+----+-----------------+\n",
            "only showing top 20 rows\n",
            "\n"
          ]
        }
      ]
    },
    {
      "cell_type": "code",
      "metadata": {
        "colab": {
          "base_uri": "https://localhost:8080/"
        },
        "id": "ZkD47FtAUGCU",
        "outputId": "93db040d-6bed-497c-82cb-8c0c1a240a51"
      },
      "source": [
        "# Filter the DF where total_votes equal or greater than 20\n",
        "votes_df = vine_df.filter(\"total_votes >=20\")\n",
        "votes_df.show()"
      ],
      "execution_count": 6,
      "outputs": [
        {
          "output_type": "stream",
          "name": "stdout",
          "text": [
            "+--------------+-----------+-------------+-----------+----+-----------------+\n",
            "|     review_id|star_rating|helpful_votes|total_votes|vine|verified_purchase|\n",
            "+--------------+-----------+-------------+-----------+----+-----------------+\n",
            "|R1S0N56H5B9SUX|          5|           30|         30|   N|                Y|\n",
            "| RCDI7Z8VCZJI9|          4|           40|         43|   N|                N|\n",
            "|R3F4225VTUO2WE|          1|            8|         33|   N|                N|\n",
            "|  R3ADPNURCCTK|          1|            1|         39|   N|                N|\n",
            "|R2LWBYC8TEUVF2|          5|           50|         53|   N|                Y|\n",
            "|R23E4EIJXID5IC|          5|           43|         43|   N|                N|\n",
            "|R1WFSWDT8L5RSJ|          4|           23|         26|   N|                N|\n",
            "|R37LMHN02KOER1|          5|           50|         50|   N|                N|\n",
            "|R297QI4VU3LMY6|          4|           41|         50|   N|                N|\n",
            "| RGNU1L1XFX33B|          3|           34|         35|   N|                N|\n",
            "|R2NPE00F48X0ET|          5|           22|         27|   N|                N|\n",
            "| RSPQFPJ4ISKS3|          5|           32|         35|   N|                Y|\n",
            "|R3U75LKYXVWRG8|          3|           18|         23|   N|                Y|\n",
            "|R2Z6WUTQEXJWCR|          5|           18|         20|   N|                Y|\n",
            "|R140Z5HP12GL1E|          5|           47|         56|   N|                Y|\n",
            "|R2WSVH9IPUO014|          1|            2|         37|   N|                N|\n",
            "|R25Q6S82PO8PHG|          5|           23|         28|   N|                Y|\n",
            "|R3HDJJN7YXFSYX|          1|            4|         58|   N|                N|\n",
            "|R18VNEEQLPQPPO|          5|          146|        153|   N|                Y|\n",
            "|R2KTDZKWNKNXPE|          5|           20|         22|   N|                Y|\n",
            "+--------------+-----------+-------------+-----------+----+-----------------+\n",
            "only showing top 20 rows\n",
            "\n"
          ]
        }
      ]
    },
    {
      "cell_type": "code",
      "metadata": {
        "colab": {
          "base_uri": "https://localhost:8080/"
        },
        "id": "9QYpZqYmU8Kc",
        "outputId": "d8088f23-ee5d-4508-86cf-85acbb0ff47d"
      },
      "source": [
        "# Filter where Ratio between Helpful votes and total votes equal or greater than 50%\n",
        "vote_ratio_df = votes_df.filter(\"helpful_votes/total_votes >= 0.5\")\n",
        "vote_ratio_df.show()"
      ],
      "execution_count": 7,
      "outputs": [
        {
          "output_type": "stream",
          "name": "stdout",
          "text": [
            "+--------------+-----------+-------------+-----------+----+-----------------+\n",
            "|     review_id|star_rating|helpful_votes|total_votes|vine|verified_purchase|\n",
            "+--------------+-----------+-------------+-----------+----+-----------------+\n",
            "|R1S0N56H5B9SUX|          5|           30|         30|   N|                Y|\n",
            "| RCDI7Z8VCZJI9|          4|           40|         43|   N|                N|\n",
            "|R2LWBYC8TEUVF2|          5|           50|         53|   N|                Y|\n",
            "|R23E4EIJXID5IC|          5|           43|         43|   N|                N|\n",
            "|R1WFSWDT8L5RSJ|          4|           23|         26|   N|                N|\n",
            "|R37LMHN02KOER1|          5|           50|         50|   N|                N|\n",
            "|R297QI4VU3LMY6|          4|           41|         50|   N|                N|\n",
            "| RGNU1L1XFX33B|          3|           34|         35|   N|                N|\n",
            "|R2NPE00F48X0ET|          5|           22|         27|   N|                N|\n",
            "| RSPQFPJ4ISKS3|          5|           32|         35|   N|                Y|\n",
            "|R3U75LKYXVWRG8|          3|           18|         23|   N|                Y|\n",
            "|R2Z6WUTQEXJWCR|          5|           18|         20|   N|                Y|\n",
            "|R140Z5HP12GL1E|          5|           47|         56|   N|                Y|\n",
            "|R25Q6S82PO8PHG|          5|           23|         28|   N|                Y|\n",
            "|R18VNEEQLPQPPO|          5|          146|        153|   N|                Y|\n",
            "|R2KTDZKWNKNXPE|          5|           20|         22|   N|                Y|\n",
            "|R1T2DZ27VMFSDV|          5|           18|         21|   N|                N|\n",
            "|R1L9S1598FPFFG|          5|           28|         33|   N|                Y|\n",
            "|R1C9BQD9AA2C76|          5|           50|         53|   N|                Y|\n",
            "| RXNMSLZ3KAT95|          5|           24|         25|   N|                Y|\n",
            "+--------------+-----------+-------------+-----------+----+-----------------+\n",
            "only showing top 20 rows\n",
            "\n"
          ]
        }
      ]
    },
    {
      "cell_type": "code",
      "metadata": {
        "colab": {
          "base_uri": "https://localhost:8080/"
        },
        "id": "_Y24gmAqVdv9",
        "outputId": "106bc289-7bbc-40c9-bf7e-9efe16de390c"
      },
      "source": [
        "# Filter for vine votes\n",
        "\n",
        "vine_yes_votes_df = vote_ratio_df.filter(vote_ratio_df.vine == 'Y')\n",
        "vine_yes_votes_df.show()"
      ],
      "execution_count": 15,
      "outputs": [
        {
          "output_type": "stream",
          "name": "stdout",
          "text": [
            "+---------+-----------+-------------+-----------+----+-----------------+\n",
            "|review_id|star_rating|helpful_votes|total_votes|vine|verified_purchase|\n",
            "+---------+-----------+-------------+-----------+----+-----------------+\n",
            "+---------+-----------+-------------+-----------+----+-----------------+\n",
            "\n"
          ]
        }
      ]
    },
    {
      "cell_type": "code",
      "metadata": {
        "colab": {
          "base_uri": "https://localhost:8080/"
        },
        "id": "BdlcLNdjWZwq",
        "outputId": "e36a7b5a-2a54-4474-fb36-2589b3e130c7"
      },
      "source": [
        "# Filter for non vine votes\n",
        "vine_no_votes_df = vote_ratio_df.filter(vote_ratio_df.vine == 'N')\n",
        "vine_no_votes_df.show()"
      ],
      "execution_count": 16,
      "outputs": [
        {
          "output_type": "stream",
          "name": "stdout",
          "text": [
            "+--------------+-----------+-------------+-----------+----+-----------------+\n",
            "|     review_id|star_rating|helpful_votes|total_votes|vine|verified_purchase|\n",
            "+--------------+-----------+-------------+-----------+----+-----------------+\n",
            "|R1S0N56H5B9SUX|          5|           30|         30|   N|                Y|\n",
            "| RCDI7Z8VCZJI9|          4|           40|         43|   N|                N|\n",
            "|R2LWBYC8TEUVF2|          5|           50|         53|   N|                Y|\n",
            "|R23E4EIJXID5IC|          5|           43|         43|   N|                N|\n",
            "|R1WFSWDT8L5RSJ|          4|           23|         26|   N|                N|\n",
            "|R37LMHN02KOER1|          5|           50|         50|   N|                N|\n",
            "|R297QI4VU3LMY6|          4|           41|         50|   N|                N|\n",
            "| RGNU1L1XFX33B|          3|           34|         35|   N|                N|\n",
            "|R2NPE00F48X0ET|          5|           22|         27|   N|                N|\n",
            "| RSPQFPJ4ISKS3|          5|           32|         35|   N|                Y|\n",
            "|R3U75LKYXVWRG8|          3|           18|         23|   N|                Y|\n",
            "|R2Z6WUTQEXJWCR|          5|           18|         20|   N|                Y|\n",
            "|R140Z5HP12GL1E|          5|           47|         56|   N|                Y|\n",
            "|R25Q6S82PO8PHG|          5|           23|         28|   N|                Y|\n",
            "|R18VNEEQLPQPPO|          5|          146|        153|   N|                Y|\n",
            "|R2KTDZKWNKNXPE|          5|           20|         22|   N|                Y|\n",
            "|R1T2DZ27VMFSDV|          5|           18|         21|   N|                N|\n",
            "|R1L9S1598FPFFG|          5|           28|         33|   N|                Y|\n",
            "|R1C9BQD9AA2C76|          5|           50|         53|   N|                Y|\n",
            "| RXNMSLZ3KAT95|          5|           24|         25|   N|                Y|\n",
            "+--------------+-----------+-------------+-----------+----+-----------------+\n",
            "only showing top 20 rows\n",
            "\n"
          ]
        }
      ]
    },
    {
      "cell_type": "code",
      "metadata": {
        "colab": {
          "base_uri": "https://localhost:8080/"
        },
        "id": "fh5lgP1lXhJD",
        "outputId": "a5dcef3e-a8ba-4ed5-c397-aa18dc653136"
      },
      "source": [
        "# 5 Star votes count by Vine paid (Y) and unpaid (N)\n",
        "\n",
        "import pyspark.sql.functions as func\n",
        "\n",
        "star_df = votes_df.filter(\"star_rating = 5\")\n",
        "star_five_df = star_df.groupby(\"vine\").agg(func.count(\"star_rating\")).withColumnRenamed(\"count(star_rating)\", \"5 Star Count\")\n",
        "star_five_df.show()"
      ],
      "execution_count": 36,
      "outputs": [
        {
          "output_type": "stream",
          "name": "stdout",
          "text": [
            "+----+------------+\n",
            "|vine|5 Star Count|\n",
            "+----+------------+\n",
            "|   N|        2658|\n",
            "+----+------------+\n",
            "\n"
          ]
        }
      ]
    },
    {
      "cell_type": "code",
      "metadata": {
        "colab": {
          "base_uri": "https://localhost:8080/"
        },
        "id": "FTt3U-SZcZQW",
        "outputId": "4308ab56-102d-4037-d129-b6a41bc9f750"
      },
      "source": [
        "# Total star review count\n",
        "total_star_df = votes_df.groupby(\"vine\").agg(func.count(\"star_rating\")).withColumnRenamed(\"count(star_rating)\", \"Star Count\")\n",
        "total_star_df.show()"
      ],
      "execution_count": 35,
      "outputs": [
        {
          "output_type": "stream",
          "name": "stdout",
          "text": [
            "+----+----------+\n",
            "|vine|Star Count|\n",
            "+----+----------+\n",
            "|   N|      7156|\n",
            "+----+----------+\n",
            "\n"
          ]
        }
      ]
    },
    {
      "cell_type": "code",
      "metadata": {
        "colab": {
          "base_uri": "https://localhost:8080/"
        },
        "id": "AlQO4NlLejAc",
        "outputId": "56fc72fc-8b7c-43ec-9b6d-b01cbddc8e0b"
      },
      "source": [
        "join_star_df = total_star_df.join(star_five_df, on=\"vine\",how=\"inner\")\n",
        "join_star_df.show()"
      ],
      "execution_count": 38,
      "outputs": [
        {
          "output_type": "stream",
          "name": "stdout",
          "text": [
            "+----+----------+------------+\n",
            "|vine|Star Count|5 Star Count|\n",
            "+----+----------+------------+\n",
            "|   N|      7156|        2658|\n",
            "+----+----------+------------+\n",
            "\n"
          ]
        }
      ]
    },
    {
      "cell_type": "code",
      "metadata": {
        "id": "Exuo6ebUsCqW",
        "colab": {
          "base_uri": "https://localhost:8080/"
        },
        "outputId": "b190362c-aa97-4e0c-995a-420d29580a60"
      },
      "source": [
        "# calculate percentage of 5 star review for paid and non paid reviews\n",
        "pct_star_df = join_star_df.withColumn(\"5 Star Percentage\", join_star_df[\"5 Star Count\"]/join_star_df[\"Star Count\"]*100)\n",
        "pct_star_df.show()"
      ],
      "execution_count": 43,
      "outputs": [
        {
          "output_type": "stream",
          "name": "stdout",
          "text": [
            "+----+----------+------------+-----------------+\n",
            "|vine|Star Count|5 Star Count|5 Star Percentage|\n",
            "+----+----------+------------+-----------------+\n",
            "|   N|      7156|        2658|37.14365567356065|\n",
            "+----+----------+------------+-----------------+\n",
            "\n"
          ]
        }
      ]
    },
    {
      "cell_type": "code",
      "metadata": {
        "id": "bsPTtAtigReZ"
      },
      "source": [
        ""
      ],
      "execution_count": null,
      "outputs": []
    }
  ]
}